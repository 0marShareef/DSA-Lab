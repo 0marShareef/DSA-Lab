{
 "cells": [
  {
   "cell_type": "code",
   "execution_count": 1,
   "metadata": {},
   "outputs": [],
   "source": [
    "import heapq"
   ]
  },
  {
   "cell_type": "code",
   "execution_count": 2,
   "metadata": {},
   "outputs": [],
   "source": [
    "# Define the graqph as an adjacency list\n",
    "graph = {\n",
    "    'A':{'B': 5, 'C':3}, \n",
    "    'B':{'D':8,'E': 6}, \n",
    "    'C':{'E':2,'F': 4},\n",
    "    'D':{'G':9},\n",
    "    'E':{'G':7},\n",
    "    'F':{},\n",
    "    'G':{}\n",
    "}"
   ]
  },
  {
   "cell_type": "code",
   "execution_count": 3,
   "metadata": {},
   "outputs": [],
   "source": [
    "# Define the heuristic values for each node\n",
    "heuristic = { \n",
    "    'A': 10,\n",
    "    'B': 8,\n",
    "    'C': 7,\n",
    "    'D': 6,\n",
    "    'E': 4,\n",
    "    'F': 3,\n",
    "    'G': 0\n",
    "}"
   ]
  },
  {
   "cell_type": "code",
   "execution_count": 4,
   "metadata": {},
   "outputs": [],
   "source": [
    "def gbfs(graph, start, goal, heauristic):\n",
    "    visited = set()\n",
    "    priority_queue = [(heuristic[start], start)]\n",
    "    came_from = {}\n",
    "    while priority_queue:\n",
    "        h, current_node = heapq.heappop(priority_queue)\n",
    "\n",
    "        if current_node in visited:\n",
    "            continue\n",
    "        visited.add(current_node)\n",
    "\n",
    "        if current_node == goal:\n",
    "            path = [current_node]\n",
    "            while current_node in came_from:\n",
    "                current_node = came_from[current_node]\n",
    "                path.insert(0, current_node)\n",
    "            return path\n",
    "        \n",
    "        for neighbor, cost in graph[current_node].items():\n",
    "            if neighbor not in visited:\n",
    "                heapq.heappush(priority_queue, (heuristic[neighbor], neighbor))\n",
    "                came_from[neighbor] = current_node\n",
    "    return None"
   ]
  },
  {
   "cell_type": "code",
   "execution_count": 5,
   "metadata": {},
   "outputs": [
    {
     "name": "stdout",
     "output_type": "stream",
     "text": [
      "Path from A to G is: A -> C -> E -> G\n"
     ]
    }
   ],
   "source": [
    "start_node = 'A'\n",
    "goal_node = 'G'\n",
    "path = gbfs(graph, start_node, goal_node, heuristic) \n",
    "if path:\n",
    "    print(f'Path from {start_node} to {goal_node} is: {\" -> \".join(path)}') \n",
    "else:\n",
    "    print(f'No path from {start_node} to {goal_node} found.')"
   ]
  }
 ],
 "metadata": {
  "kernelspec": {
   "display_name": "facts",
   "language": "python",
   "name": "python3"
  },
  "language_info": {
   "codemirror_mode": {
    "name": "ipython",
    "version": 3
   },
   "file_extension": ".py",
   "mimetype": "text/x-python",
   "name": "python",
   "nbconvert_exporter": "python",
   "pygments_lexer": "ipython3",
   "version": "3.11.5"
  }
 },
 "nbformat": 4,
 "nbformat_minor": 2
}
